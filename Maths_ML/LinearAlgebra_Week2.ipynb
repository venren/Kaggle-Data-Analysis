{
 "cells": [
  {
   "cell_type": "code",
   "execution_count": 16,
   "id": "492ba680-066b-4b89-9a40-0e6c0aede39f",
   "metadata": {},
   "outputs": [],
   "source": [
    "import numpy as np"
   ]
  },
  {
   "cell_type": "markdown",
   "id": "cde3deaa-3f48-4ee6-8913-eb84092b2a45",
   "metadata": {},
   "source": [
    "## solve linear equation and determination"
   ]
  },
  {
   "cell_type": "code",
   "execution_count": 7,
   "id": "f76df529-4f03-475c-90e4-2872e0aa878a",
   "metadata": {},
   "outputs": [
    {
     "name": "stdout",
     "output_type": "stream",
     "text": [
      "solution = [-1.  5.]\n",
      "determinant = 7.999999999999998\n"
     ]
    }
   ],
   "source": [
    "arr = np.array([[1,1],[-6,2]])\n",
    "coeff = np.array([4, 16])\n",
    "x = np.linalg.solve(arr, coeff)\n",
    "print(f\"solution = {x}\")\n",
    "det = np.linalg.det(arr)\n",
    "print(f\"determinant = {det}\")"
   ]
  },
  {
   "cell_type": "code",
   "execution_count": 15,
   "id": "993ea16f-a356-4848-ad88-dd2d3462bd67",
   "metadata": {},
   "outputs": [
    {
     "name": "stdout",
     "output_type": "stream",
     "text": [
      "det = -0.0\n"
     ]
    }
   ],
   "source": [
    "arr = np.array([[-3, 8, 1],[2, 2, -1],[-5, 6, 2 ]])\n",
    "det = np.linalg.det(arr)\n",
    "print(f\"det = {round(det, 3)}\")"
   ]
  },
  {
   "cell_type": "markdown",
   "id": "9a426bb5-85e8-4ad9-89fe-bbc253414466",
   "metadata": {},
   "source": [
    "## solve singular matrix and see the error"
   ]
  },
  {
   "cell_type": "code",
   "execution_count": 29,
   "id": "bd54f3a5-1f41-48ba-b318-e6a143fea031",
   "metadata": {},
   "outputs": [
    {
     "name": "stdout",
     "output_type": "stream",
     "text": [
      "Singular matrix cannot be solved!!!\n",
      "Determinant : 0.0\n"
     ]
    }
   ],
   "source": [
    "arr = np.array([[1,1,1],[0, 1 ,-3],[2,1,5]])\n",
    "coeff= np.array([2,1,0])\n",
    "try:\n",
    "    x = np.linalg.solve(arr, coeff)\n",
    "except np.linalg.LinAlgError:\n",
    "    print(\"Singular matrix cannot be solved!!!\")\n",
    "\n",
    "print(f\"Determinant : {np.linalg.det(arr)}\")"
   ]
  },
  {
   "cell_type": "code",
   "execution_count": null,
   "id": "871dd1dd-6cbd-431e-9ac4-62a7fc230930",
   "metadata": {},
   "outputs": [],
   "source": []
  }
 ],
 "metadata": {
  "kernelspec": {
   "display_name": "Python 3 (ipykernel)",
   "language": "python",
   "name": "python3"
  },
  "language_info": {
   "codemirror_mode": {
    "name": "ipython",
    "version": 3
   },
   "file_extension": ".py",
   "mimetype": "text/x-python",
   "name": "python",
   "nbconvert_exporter": "python",
   "pygments_lexer": "ipython3",
   "version": "3.10.13"
  }
 },
 "nbformat": 4,
 "nbformat_minor": 5
}
