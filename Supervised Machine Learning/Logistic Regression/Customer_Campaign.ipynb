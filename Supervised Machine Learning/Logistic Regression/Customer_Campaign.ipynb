{
 "cells": [
  {
   "cell_type": "code",
   "execution_count": 1,
   "id": "e30811e4-f0d5-4659-9abf-eaaac982db01",
   "metadata": {},
   "outputs": [],
   "source": [
    "import pandas as pd\n",
    "import numpy as np\n",
    "import matplotlib.pyplot as plt\n",
    "from sklearn.linear_model import LinearRegression"
   ]
  },
  {
   "cell_type": "code",
   "execution_count": 17,
   "id": "d4e4ff4f-929a-469e-a900-c59adf7acae4",
   "metadata": {},
   "outputs": [
    {
     "name": "stdout",
     "output_type": "stream",
     "text": [
      "   customer_id  age  gender  annual_income  credit_score employed  \\\n",
      "0            1   35    Male          65000           720      Yes   \n",
      "1            2   28  Female          45000           680       No   \n",
      "2            3   42    Male          85000           750      Yes   \n",
      "3            4   31  Female          55000           710      Yes   \n",
      "4            5   47    Male          95000           790      Yes   \n",
      "5            6   25  Female          38000           630       No   \n",
      "6            7   39    Male          72000           740      Yes   \n",
      "7            8   33  Female          48000           670      Yes   \n",
      "8            9   51    Male         110000           820      Yes   \n",
      "9           10   27  Female          40000           620       No   \n",
      "\n",
      "  marital_status  no_of_children responded  \n",
      "0        Married               2       Yes  \n",
      "1         Single               0        No  \n",
      "2        Married               3       Yes  \n",
      "3         Single               1        No  \n",
      "4        Married               2       Yes  \n",
      "5         Single               0        No  \n",
      "6        Married               2       Yes  \n",
      "7         Single               0        No  \n",
      "8        Married               3       Yes  \n",
      "9         Single               0        No  \n",
      "\n",
      "Types of variables\n",
      "numerical features=['age', 'annual_income', 'credit_score', 'no_of_children']\n",
      "categorical features=['gender', 'employed', 'marital_status', 'responded']\n"
     ]
    }
   ],
   "source": [
    "data = pd.read_csv(\"campaign_responses.csv\")\n",
    "print(data.head(10))\n",
    "data.drop('customer_id', axis=1, inplace=True)\n",
    "numerical_features = data.select_dtypes(include = ['int','float']).columns.to_list()\n",
    "categorical_features = data.select_dtypes(include = ['category', 'object']).columns.to_list()\n",
    "print( f\"\\nTypes of variables\" )\n",
    "print(f\"numerical features={numerical_features}\")\n",
    "print(f\"categorical features={categorical_features}\")"
   ]
  },
  {
   "cell_type": "code",
   "execution_count": 39,
   "id": "3bcab4e6-abdb-4032-8131-79a244f29b14",
   "metadata": {},
   "outputs": [
    {
     "data": {
      "text/plain": [
       "<matplotlib.collections.PathCollection at 0x769bd8dd9c90>"
      ]
     },
     "execution_count": 39,
     "metadata": {},
     "output_type": "execute_result"
    },
    {
     "data": {
      "image/png": "[encoded data removed]",
      "text/plain": [
       "<Figure size 400x400 with 1 Axes>"
      ]
     },
     "metadata": {},
     "output_type": "display_data"
    }
   ],
   "source": [
    "responded_flag = {\"Yes\": 1, \"No\": 0 }\n",
    "X = data.loc[:,[ \"annual_income\", \"no_of_children\" ]].values\n",
    "y = data[ \"responded\" ].map(responded_flag).astype(int)\n",
    "\n",
    "positive_response = y == 1\n",
    "negative_response = y == 0\n",
    "\n",
    "positive_response = positive_response.values.reshape(-1)\n",
    "negative_response = negative_response.values.reshape(-1)\n",
    "\n",
    "fig,ax = plt.subplots(1,1,figsize=(4,4))\n",
    "ax.scatter(X[positive_response,0], X[positive_response, 1], marker='x', s=80, c = 'red')\n",
    "ax.scatter(X[negative_response,0], X[negative_response, 1], marker='o', s=80, c = 'blue')"
   ]
  },
  {
   "cell_type": "code",
   "execution_count": 42,
   "id": "e1e85a14-b796-4d29-83f2-7e620aa9876e",
   "metadata": {},
   "outputs": [
    {
     "data": {
      "text/plain": [
       "array([ True, False,  True, False,  True, False,  True, False,  True,\n",
       "       False,  True, False,  True, False,  True, False,  True, False,\n",
       "        True, False,  True, False,  True, False,  True, False,  True,\n",
       "       False,  True, False,  True, False,  True, False,  True, False,\n",
       "        True, False,  True, False,  True, False,  True, False,  True,\n",
       "       False,  True, False,  True, False,  True, False,  True, False,\n",
       "        True, False])"
      ]
     },
     "execution_count": 42,
     "metadata": {},
     "output_type": "execute_result"
    }
   ],
   "source": [
    "positive_response"
   ]
  },
  {
   "cell_type": "code",
   "execution_count": 5,
   "id": "1a5331e7-e6ff-47b0-866e-54541737e2a2",
   "metadata": {},
   "outputs": [],
   "source": [
    "def sigmoidFunction(linearRegPred):\n",
    "    e = 1 + np.exp(-1 * linearRegPred)\n",
    "    return( 1/e )"
   ]
  },
  {
   "cell_type": "code",
   "execution_count": 6,
   "id": "70d9a2a1-a29d-4ecb-9fe0-5e882cfc0ce2",
   "metadata": {},
   "outputs": [
    {
     "data": {
      "text/plain": [
       "0.6463991025439391"
      ]
     },
     "execution_count": 6,
     "metadata": {},
     "output_type": "execute_result"
    }
   ],
   "source": [
    "predictions = model.predict(X)\n",
    "predictions = sigmoidFunction(predictions)\n",
    "predictions\n",
    "\n",
    "sigmoidFunction(0.60324825)"
   ]
  },
  {
   "cell_type": "code",
   "execution_count": 51,
   "id": "eaf77a9c-3ce7-43bc-8d96-6102af8640cd",
   "metadata": {},
   "outputs": [
    {
     "data": {
      "text/plain": [
       "0.6463991025439391"
      ]
     },
     "execution_count": 51,
     "metadata": {},
     "output_type": "execute_result"
    }
   ],
   "source": [
    "1/(1 + np.exp(-1 * 0.60324825))"
   ]
  },
  {
   "cell_type": "code",
   "execution_count": null,
   "id": "2b6a07fd-f482-4887-b877-2960e32bd6e4",
   "metadata": {},
   "outputs": [],
   "source": [
    "predictions"
   ]
  },
  {
   "cell_type": "code",
   "execution_count": 12,
   "id": "df876f24-9fa6-4932-91b4-54217807e5da",
   "metadata": {},
   "outputs": [
    {
     "name": "stderr",
     "output_type": "stream",
     "text": [
      "/tmp/ipykernel_2606/3229596579.py:2: RuntimeWarning: overflow encountered in exp\n",
      "  e = 1 + np.exp(-1 * linearRegPred)\n"
     ]
    },
    {
     "data": {
      "text/plain": [
       "0.0"
      ]
     },
     "execution_count": 12,
     "metadata": {},
     "output_type": "execute_result"
    }
   ],
   "source": [
    "sigmoidFunction(-10000000)"
   ]
  }
 ],
 "metadata": {
  "kernelspec": {
   "display_name": "Python 3 (ipykernel)",
   "language": "python",
   "name": "python3"
  },
  "language_info": {
   "codemirror_mode": {
    "name": "ipython",
    "version": 3
   },
   "file_extension": ".py",
   "mimetype": "text/x-python",
   "name": "python",
   "nbconvert_exporter": "python",
   "pygments_lexer": "ipython3",
   "version": "3.10.13"
  }
 },
 "nbformat": 4,
 "nbformat_minor": 5
}
