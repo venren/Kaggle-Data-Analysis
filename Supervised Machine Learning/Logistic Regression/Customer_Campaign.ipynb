{
 "cells": [
  {
   "cell_type": "code",
   "execution_count": 14,
   "id": "e30811e4-f0d5-4659-9abf-eaaac982db01",
   "metadata": {},
   "outputs": [],
   "source": [
    "import pandas as pd\n",
    "import numpy as np\n",
    "import matplotlib.pyplot as plt\n",
    "from sklearn.linear_model import LinearRegression"
   ]
  },
  {
   "cell_type": "code",
   "execution_count": 5,
   "id": "d4e4ff4f-929a-469e-a900-c59adf7acae4",
   "metadata": {},
   "outputs": [
    {
     "data": {
      "text/html": [
       "<div>\n",
       "<style scoped>\n",
       "    .dataframe tbody tr th:only-of-type {\n",
       "        vertical-align: middle;\n",
       "    }\n",
       "\n",
       "    .dataframe tbody tr th {\n",
       "        vertical-align: top;\n",
       "    }\n",
       "\n",
       "    .dataframe thead th {\n",
       "        text-align: right;\n",
       "    }\n",
       "</style>\n",
       "<table border=\"1\" class=\"dataframe\">\n",
       "  <thead>\n",
       "    <tr style=\"text-align: right;\">\n",
       "      <th></th>\n",
       "      <th>customer_id</th>\n",
       "      <th>age</th>\n",
       "      <th>gender</th>\n",
       "      <th>annual_income</th>\n",
       "      <th>credit_score</th>\n",
       "      <th>employed</th>\n",
       "      <th>marital_status</th>\n",
       "      <th>no_of_children</th>\n",
       "      <th>responded</th>\n",
       "    </tr>\n",
       "  </thead>\n",
       "  <tbody>\n",
       "    <tr>\n",
       "      <th>0</th>\n",
       "      <td>1</td>\n",
       "      <td>35</td>\n",
       "      <td>Male</td>\n",
       "      <td>65000</td>\n",
       "      <td>720</td>\n",
       "      <td>Yes</td>\n",
       "      <td>Married</td>\n",
       "      <td>2</td>\n",
       "      <td>Yes</td>\n",
       "    </tr>\n",
       "    <tr>\n",
       "      <th>1</th>\n",
       "      <td>2</td>\n",
       "      <td>28</td>\n",
       "      <td>Female</td>\n",
       "      <td>45000</td>\n",
       "      <td>680</td>\n",
       "      <td>No</td>\n",
       "      <td>Single</td>\n",
       "      <td>0</td>\n",
       "      <td>No</td>\n",
       "    </tr>\n",
       "    <tr>\n",
       "      <th>2</th>\n",
       "      <td>3</td>\n",
       "      <td>42</td>\n",
       "      <td>Male</td>\n",
       "      <td>85000</td>\n",
       "      <td>750</td>\n",
       "      <td>Yes</td>\n",
       "      <td>Married</td>\n",
       "      <td>3</td>\n",
       "      <td>Yes</td>\n",
       "    </tr>\n",
       "    <tr>\n",
       "      <th>3</th>\n",
       "      <td>4</td>\n",
       "      <td>31</td>\n",
       "      <td>Female</td>\n",
       "      <td>55000</td>\n",
       "      <td>710</td>\n",
       "      <td>Yes</td>\n",
       "      <td>Single</td>\n",
       "      <td>1</td>\n",
       "      <td>No</td>\n",
       "    </tr>\n",
       "    <tr>\n",
       "      <th>4</th>\n",
       "      <td>5</td>\n",
       "      <td>47</td>\n",
       "      <td>Male</td>\n",
       "      <td>95000</td>\n",
       "      <td>790</td>\n",
       "      <td>Yes</td>\n",
       "      <td>Married</td>\n",
       "      <td>2</td>\n",
       "      <td>Yes</td>\n",
       "    </tr>\n",
       "    <tr>\n",
       "      <th>5</th>\n",
       "      <td>6</td>\n",
       "      <td>25</td>\n",
       "      <td>Female</td>\n",
       "      <td>38000</td>\n",
       "      <td>630</td>\n",
       "      <td>No</td>\n",
       "      <td>Single</td>\n",
       "      <td>0</td>\n",
       "      <td>No</td>\n",
       "    </tr>\n",
       "    <tr>\n",
       "      <th>6</th>\n",
       "      <td>7</td>\n",
       "      <td>39</td>\n",
       "      <td>Male</td>\n",
       "      <td>72000</td>\n",
       "      <td>740</td>\n",
       "      <td>Yes</td>\n",
       "      <td>Married</td>\n",
       "      <td>2</td>\n",
       "      <td>Yes</td>\n",
       "    </tr>\n",
       "    <tr>\n",
       "      <th>7</th>\n",
       "      <td>8</td>\n",
       "      <td>33</td>\n",
       "      <td>Female</td>\n",
       "      <td>48000</td>\n",
       "      <td>670</td>\n",
       "      <td>Yes</td>\n",
       "      <td>Single</td>\n",
       "      <td>0</td>\n",
       "      <td>No</td>\n",
       "    </tr>\n",
       "    <tr>\n",
       "      <th>8</th>\n",
       "      <td>9</td>\n",
       "      <td>51</td>\n",
       "      <td>Male</td>\n",
       "      <td>110000</td>\n",
       "      <td>820</td>\n",
       "      <td>Yes</td>\n",
       "      <td>Married</td>\n",
       "      <td>3</td>\n",
       "      <td>Yes</td>\n",
       "    </tr>\n",
       "    <tr>\n",
       "      <th>9</th>\n",
       "      <td>10</td>\n",
       "      <td>27</td>\n",
       "      <td>Female</td>\n",
       "      <td>40000</td>\n",
       "      <td>620</td>\n",
       "      <td>No</td>\n",
       "      <td>Single</td>\n",
       "      <td>0</td>\n",
       "      <td>No</td>\n",
       "    </tr>\n",
       "  </tbody>\n",
       "</table>\n",
       "</div>"
      ],
      "text/plain": [
       "   customer_id  age  gender  annual_income  credit_score employed  \\\n",
       "0            1   35    Male          65000           720      Yes   \n",
       "1            2   28  Female          45000           680       No   \n",
       "2            3   42    Male          85000           750      Yes   \n",
       "3            4   31  Female          55000           710      Yes   \n",
       "4            5   47    Male          95000           790      Yes   \n",
       "5            6   25  Female          38000           630       No   \n",
       "6            7   39    Male          72000           740      Yes   \n",
       "7            8   33  Female          48000           670      Yes   \n",
       "8            9   51    Male         110000           820      Yes   \n",
       "9           10   27  Female          40000           620       No   \n",
       "\n",
       "  marital_status  no_of_children responded  \n",
       "0        Married               2       Yes  \n",
       "1         Single               0        No  \n",
       "2        Married               3       Yes  \n",
       "3         Single               1        No  \n",
       "4        Married               2       Yes  \n",
       "5         Single               0        No  \n",
       "6        Married               2       Yes  \n",
       "7         Single               0        No  \n",
       "8        Married               3       Yes  \n",
       "9         Single               0        No  "
      ]
     },
     "execution_count": 5,
     "metadata": {},
     "output_type": "execute_result"
    }
   ],
   "source": [
    "data = pd.read_csv(\"campaign_responses.csv\")\n",
    "data.head(10)"
   ]
  },
  {
   "cell_type": "code",
   "execution_count": 41,
   "id": "5ef9a194-222a-4e07-8ef1-cd0b529cb272",
   "metadata": {},
   "outputs": [
    {
     "data": {
      "text/plain": [
       "<matplotlib.collections.PathCollection at 0x7c51d4fa45e0>"
      ]
     },
     "execution_count": 41,
     "metadata": {},
     "output_type": "execute_result"
    },
    {
     "data": {
      "image/png": "[encoded data removed]",
      "text/plain": [
       "<Figure size 640x480 with 1 Axes>"
      ]
     },
     "metadata": {},
     "output_type": "display_data"
    }
   ],
   "source": [
    "responded_flag = {\"Yes\": 1, \"No\": 0 }\n",
    "X = data.loc[:,[ \"annual_income\" ]]\n",
    "y = data[ \"responded\" ].map(responded_flag).astype(int)\n",
    "\n",
    "plt.scatter(X, y)"
   ]
  },
  {
   "cell_type": "code",
   "execution_count": 49,
   "id": "634cadf2-a55e-4525-9ded-4feeeeccb0f2",
   "metadata": {},
   "outputs": [
    {
     "name": "stdout",
     "output_type": "stream",
     "text": [
      "slope=[2.01555129e-05]\n",
      "intercept=-0.8910903101815104\n"
     ]
    }
   ],
   "source": [
    "model = LinearRegression()\n",
    "model.fit(X, y)\n",
    "print(f\"slope={model.coef_}\")\n",
    "print(f\"intercept={model.intercept_}\")"
   ]
  },
  {
   "cell_type": "code",
   "execution_count": 50,
   "id": "1a5331e7-e6ff-47b0-866e-54541737e2a2",
   "metadata": {},
   "outputs": [],
   "source": [
    "def sigmoidFunction(linearRegPred):\n",
    "    e = 1 + np.exp(-1 * linearRegPred)\n",
    "    return( 1/e )"
   ]
  },
  {
   "cell_type": "code",
   "execution_count": 46,
   "id": "70d9a2a1-a29d-4ecb-9fe0-5e882cfc0ce2",
   "metadata": {},
   "outputs": [
    {
     "data": {
      "text/plain": [
       "0.6463991025439391"
      ]
     },
     "execution_count": 46,
     "metadata": {},
     "output_type": "execute_result"
    }
   ],
   "source": [
    "predictions = model.predict(X)\n",
    "predictions = sigmoidFunction(predictions)\n",
    "predictions\n",
    "\n",
    "sigmoidFunction(0.60324825)"
   ]
  },
  {
   "cell_type": "code",
   "execution_count": 51,
   "id": "eaf77a9c-3ce7-43bc-8d96-6102af8640cd",
   "metadata": {},
   "outputs": [
    {
     "data": {
      "text/plain": [
       "0.6463991025439391"
      ]
     },
     "execution_count": 51,
     "metadata": {},
     "output_type": "execute_result"
    }
   ],
   "source": [
    "1/(1 + np.exp(-1 * 0.60324825))"
   ]
  },
  {
   "cell_type": "code",
   "execution_count": 52,
   "id": "2b6a07fd-f482-4887-b877-2960e32bd6e4",
   "metadata": {},
   "outputs": [
    {
     "data": {
      "text/plain": [
       "array([0.60324825, 0.50397686, 0.69468793, 0.55415249, 0.73568946,\n",
       "       0.4687456 , 0.63647721, 0.5190843 , 0.79018089, 0.47879528,\n",
       "       0.71563382, 0.53916867, 0.65034889, 0.50397686, 0.77298412,\n",
       "       0.45872121, 0.69468793, 0.54916744, 0.67290439, 0.57889538,\n",
       "       0.72376541, 0.48886215, 0.66397071, 0.5190843 , 0.74727852,\n",
       "       0.47879528, 0.69468793, 0.58868975, 0.75481524, 0.49893807,\n",
       "       0.71563382, 0.55912666, 0.68171441, 0.52913828, 0.77298412,\n",
       "       0.453721  , 0.70735964, 0.56903853, 0.73568946, 0.49389949,\n",
       "       0.67290439, 0.53916867, 0.75481524, 0.50901484, 0.70735964,\n",
       "       0.59841434, 0.76219873, 0.4687456 , 0.71563382, 0.54916744,\n",
       "       0.69468793, 0.52913828, 0.74727852, 0.48886215, 0.71563382,\n",
       "       0.57889538])"
      ]
     },
     "execution_count": 52,
     "metadata": {},
     "output_type": "execute_result"
    }
   ],
   "source": [
    "predictions"
   ]
  }
 ],
 "metadata": {
  "kernelspec": {
   "display_name": "Python 3 (ipykernel)",
   "language": "python",
   "name": "python3"
  },
  "language_info": {
   "codemirror_mode": {
    "name": "ipython",
    "version": 3
   },
   "file_extension": ".py",
   "mimetype": "text/x-python",
   "name": "python",
   "nbconvert_exporter": "python",
   "pygments_lexer": "ipython3",
   "version": "3.10.13"
  }
 },
 "nbformat": 4,
 "nbformat_minor": 5
}
