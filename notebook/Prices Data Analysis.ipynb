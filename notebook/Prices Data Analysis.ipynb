{
 "cells": [
  {
   "cell_type": "markdown",
   "id": "772bf52d-1d07-43f9-9a45-6d46b5900d01",
   "metadata": {},
   "source": [
    "# UK HM Land Registry Data Analysis\n",
    "- Monthly data downloaded from here - https://www.gov.uk/government/statistical-data-sets/price-paid-data-downloads\n",
    "- Columns with meaning - https://www.gov.uk/guidance/about-the-price-paid-data "
   ]
  },
  {
   "cell_type": "markdown",
   "id": "dd07e588-b4c9-4d44-b678-a363fedd623b",
   "metadata": {},
   "source": [
    "Contains HM Land Registry data © Crown copyright and database right 2021. This data is licensed under the Open Government Licence v3.0."
   ]
  },
  {
   "cell_type": "code",
   "execution_count": 10,
   "id": "7ac93142-89f4-4ac2-9505-c193ae505f75",
   "metadata": {},
   "outputs": [],
   "source": [
    "import pandas as pd"
   ]
  },
  {
   "cell_type": "code",
   "execution_count": 4,
   "id": "28f0eebd-0945-4a6e-a220-ca10b8d580fb",
   "metadata": {},
   "outputs": [
    {
     "name": "stdout",
     "output_type": "stream",
     "text": [
      "--2024-02-25 10:36:45--  http://prod.publicdata.landregistry.gov.uk.s3-website-eu-west-1.amazonaws.com/pp-monthly-update-new-version.csv\n",
      "Resolving prod.publicdata.landregistry.gov.uk.s3-website-eu-west-1.amazonaws.com (prod.publicdata.landregistry.gov.uk.s3-website-eu-west-1.amazonaws.com)... 52.218.112.124, 52.92.34.28, 52.92.1.132, ...\n",
      "Connecting to prod.publicdata.landregistry.gov.uk.s3-website-eu-west-1.amazonaws.com (prod.publicdata.landregistry.gov.uk.s3-website-eu-west-1.amazonaws.com)|52.218.112.124|:80... connected.\n",
      "HTTP request sent, awaiting response... 301 Moved Permanently\n",
      "Location: http://prod1.publicdata.landregistry.gov.uk.s3-website-eu-west-1.amazonaws.com/pp-monthly-update-new-version.csv [following]\n",
      "--2024-02-25 10:36:45--  http://prod1.publicdata.landregistry.gov.uk.s3-website-eu-west-1.amazonaws.com/pp-monthly-update-new-version.csv\n",
      "Resolving prod1.publicdata.landregistry.gov.uk.s3-website-eu-west-1.amazonaws.com (prod1.publicdata.landregistry.gov.uk.s3-website-eu-west-1.amazonaws.com)... 52.92.1.132, 52.218.46.28, 52.92.34.28, ...\n",
      "Reusing existing connection to prod.publicdata.landregistry.gov.uk.s3-website-eu-west-1.amazonaws.com:80.\n",
      "HTTP request sent, awaiting response... 200 OK\n",
      "Length: 11053958 (11M) [text/csv]\n",
      "Saving to: ‘pp-monthly-update-new-version.csv.1’\n",
      "\n",
      "pp-monthly-update-n 100%[===================>]  10.54M  --.-KB/s    in 0.1s    \n",
      "\n",
      "2024-02-25 10:36:45 (72.6 MB/s) - ‘pp-monthly-update-new-version.csv.1’ saved [11053958/11053958]\n",
      "\n"
     ]
    }
   ],
   "source": [
    "!wget http://prod.publicdata.landregistry.gov.uk.s3-website-eu-west-1.amazonaws.com/pp-monthly-update-new-version.csv"
   ]
  },
  {
   "cell_type": "code",
   "execution_count": 56,
   "id": "546e78c5-21b0-478d-b885-f8e3113ebd88",
   "metadata": {},
   "outputs": [],
   "source": [
    "columnNames = [\"transaction_id\", \"price\", \"sale_date\", \"post_code\", \"property_type\", \"property_age\", \"duration\", \n",
    "               \"primary_addressable_object\", \"secondary_addressable_object\", \"street\", \"locality\", \"town_or_city\", \"district\",\n",
    "               \"county\", \"Price_Paid_Transaction_Type\", \"Record_Type\" ]\n",
    "df = pd.read_csv(\"pp-monthly-update-new-version.csv\", header=None, names = columnNames)"
   ]
  },
  {
   "cell_type": "code",
   "execution_count": 62,
   "id": "97e42302-8c50-4fdd-a492-ee79a9d8d742",
   "metadata": {},
   "outputs": [],
   "source": [
    "df = df.astype({ \"Record_Type\": \"category\", \"property_type\" : \"category\", \"property_age\" : \"category\", \"duration\" : \"category\"})"
   ]
  },
  {
   "cell_type": "code",
   "execution_count": 64,
   "id": "57f38729-bc0e-41a9-a6b3-d7be6e07dfc2",
   "metadata": {},
   "outputs": [
    {
     "data": {
      "text/html": [
       "<div>\n",
       "<style scoped>\n",
       "    .dataframe tbody tr th:only-of-type {\n",
       "        vertical-align: middle;\n",
       "    }\n",
       "\n",
       "    .dataframe tbody tr th {\n",
       "        vertical-align: top;\n",
       "    }\n",
       "\n",
       "    .dataframe thead th {\n",
       "        text-align: right;\n",
       "    }\n",
       "</style>\n",
       "<table border=\"1\" class=\"dataframe\">\n",
       "  <thead>\n",
       "    <tr style=\"text-align: right;\">\n",
       "      <th></th>\n",
       "      <th>transaction_id</th>\n",
       "      <th>price</th>\n",
       "      <th>sale_date</th>\n",
       "      <th>post_code</th>\n",
       "      <th>property_type</th>\n",
       "      <th>property_age</th>\n",
       "      <th>duration</th>\n",
       "      <th>primary_addressable_object</th>\n",
       "      <th>secondary_addressable_object</th>\n",
       "      <th>street</th>\n",
       "      <th>locality</th>\n",
       "      <th>town_or_city</th>\n",
       "      <th>district</th>\n",
       "      <th>county</th>\n",
       "      <th>Price_Paid_Transaction_Type</th>\n",
       "      <th>Record_Type</th>\n",
       "    </tr>\n",
       "  </thead>\n",
       "  <tbody>\n",
       "    <tr>\n",
       "      <th>0</th>\n",
       "      <td>{0E082196-B05A-5C09-E063-4704A8C0A10E}</td>\n",
       "      <td>532500</td>\n",
       "      <td>2021-11-05 00:00</td>\n",
       "      <td>N17 9LX</td>\n",
       "      <td>F</td>\n",
       "      <td>Y</td>\n",
       "      <td>L</td>\n",
       "      <td>NAVIGATION POINT, 2</td>\n",
       "      <td>FLAT 1102</td>\n",
       "      <td>HALE WHARF</td>\n",
       "      <td>NaN</td>\n",
       "      <td>LONDON</td>\n",
       "      <td>HARINGEY</td>\n",
       "      <td>GREATER LONDON</td>\n",
       "      <td>A</td>\n",
       "      <td>A</td>\n",
       "    </tr>\n",
       "    <tr>\n",
       "      <th>1</th>\n",
       "      <td>{0E082196-B066-5C09-E063-4704A8C0A10E}</td>\n",
       "      <td>430000</td>\n",
       "      <td>2021-06-04 00:00</td>\n",
       "      <td>W13 8QJ</td>\n",
       "      <td>F</td>\n",
       "      <td>N</td>\n",
       "      <td>L</td>\n",
       "      <td>CRAIG HOUSE</td>\n",
       "      <td>FLAT 27</td>\n",
       "      <td>HARTINGTON ROAD</td>\n",
       "      <td>NaN</td>\n",
       "      <td>LONDON</td>\n",
       "      <td>EALING</td>\n",
       "      <td>GREATER LONDON</td>\n",
       "      <td>A</td>\n",
       "      <td>A</td>\n",
       "    </tr>\n",
       "    <tr>\n",
       "      <th>2</th>\n",
       "      <td>{0E082196-B0BF-5C09-E063-4704A8C0A10E}</td>\n",
       "      <td>235000</td>\n",
       "      <td>2021-06-14 00:00</td>\n",
       "      <td>BS48 3LW</td>\n",
       "      <td>T</td>\n",
       "      <td>N</td>\n",
       "      <td>L</td>\n",
       "      <td>11</td>\n",
       "      <td>NaN</td>\n",
       "      <td>AMBERLANDS CLOSE</td>\n",
       "      <td>BACKWELL</td>\n",
       "      <td>BRISTOL</td>\n",
       "      <td>NORTH SOMERSET</td>\n",
       "      <td>NORTH SOMERSET</td>\n",
       "      <td>A</td>\n",
       "      <td>A</td>\n",
       "    </tr>\n",
       "    <tr>\n",
       "      <th>3</th>\n",
       "      <td>{0E082196-B0E8-5C09-E063-4704A8C0A10E}</td>\n",
       "      <td>165000</td>\n",
       "      <td>2021-04-07 00:00</td>\n",
       "      <td>BS23 1YW</td>\n",
       "      <td>F</td>\n",
       "      <td>N</td>\n",
       "      <td>L</td>\n",
       "      <td>12</td>\n",
       "      <td>FIRST FLOOR FLAT</td>\n",
       "      <td>DICKENSON ROAD</td>\n",
       "      <td>NaN</td>\n",
       "      <td>WESTON-SUPER-MARE</td>\n",
       "      <td>NORTH SOMERSET</td>\n",
       "      <td>NORTH SOMERSET</td>\n",
       "      <td>A</td>\n",
       "      <td>A</td>\n",
       "    </tr>\n",
       "    <tr>\n",
       "      <th>4</th>\n",
       "      <td>{0E082196-B1B6-5C09-E063-4704A8C0A10E}</td>\n",
       "      <td>525000</td>\n",
       "      <td>2021-06-30 00:00</td>\n",
       "      <td>NW1 6JG</td>\n",
       "      <td>F</td>\n",
       "      <td>N</td>\n",
       "      <td>L</td>\n",
       "      <td>REGIS COURT</td>\n",
       "      <td>FLAT 21</td>\n",
       "      <td>MELCOMBE PLACE</td>\n",
       "      <td>NaN</td>\n",
       "      <td>LONDON</td>\n",
       "      <td>CITY OF WESTMINSTER</td>\n",
       "      <td>GREATER LONDON</td>\n",
       "      <td>A</td>\n",
       "      <td>A</td>\n",
       "    </tr>\n",
       "  </tbody>\n",
       "</table>\n",
       "</div>"
      ],
      "text/plain": [
       "                           transaction_id   price         sale_date post_code  \\\n",
       "0  {0E082196-B05A-5C09-E063-4704A8C0A10E}  532500  2021-11-05 00:00   N17 9LX   \n",
       "1  {0E082196-B066-5C09-E063-4704A8C0A10E}  430000  2021-06-04 00:00   W13 8QJ   \n",
       "2  {0E082196-B0BF-5C09-E063-4704A8C0A10E}  235000  2021-06-14 00:00  BS48 3LW   \n",
       "3  {0E082196-B0E8-5C09-E063-4704A8C0A10E}  165000  2021-04-07 00:00  BS23 1YW   \n",
       "4  {0E082196-B1B6-5C09-E063-4704A8C0A10E}  525000  2021-06-30 00:00   NW1 6JG   \n",
       "\n",
       "  property_type property_age duration primary_addressable_object  \\\n",
       "0             F            Y        L        NAVIGATION POINT, 2   \n",
       "1             F            N        L                CRAIG HOUSE   \n",
       "2             T            N        L                         11   \n",
       "3             F            N        L                         12   \n",
       "4             F            N        L                REGIS COURT   \n",
       "\n",
       "  secondary_addressable_object            street  locality       town_or_city  \\\n",
       "0                    FLAT 1102        HALE WHARF       NaN             LONDON   \n",
       "1                      FLAT 27   HARTINGTON ROAD       NaN             LONDON   \n",
       "2                          NaN  AMBERLANDS CLOSE  BACKWELL            BRISTOL   \n",
       "3             FIRST FLOOR FLAT    DICKENSON ROAD       NaN  WESTON-SUPER-MARE   \n",
       "4                      FLAT 21    MELCOMBE PLACE       NaN             LONDON   \n",
       "\n",
       "              district          county Price_Paid_Transaction_Type Record_Type  \n",
       "0             HARINGEY  GREATER LONDON                           A           A  \n",
       "1               EALING  GREATER LONDON                           A           A  \n",
       "2       NORTH SOMERSET  NORTH SOMERSET                           A           A  \n",
       "3       NORTH SOMERSET  NORTH SOMERSET                           A           A  \n",
       "4  CITY OF WESTMINSTER  GREATER LONDON                           A           A  "
      ]
     },
     "execution_count": 64,
     "metadata": {},
     "output_type": "execute_result"
    }
   ],
   "source": [
    "df.head(5)"
   ]
  },
  {
   "cell_type": "code",
   "execution_count": 65,
   "id": "6f267430-449f-4b5f-9141-ddb9a4c507e8",
   "metadata": {},
   "outputs": [
    {
     "data": {
      "text/plain": [
       "transaction_id                    object\n",
       "price                              int64\n",
       "sale_date                         object\n",
       "post_code                         object\n",
       "property_type                   category\n",
       "property_age                    category\n",
       "duration                        category\n",
       "primary_addressable_object        object\n",
       "secondary_addressable_object      object\n",
       "street                            object\n",
       "locality                          object\n",
       "town_or_city                      object\n",
       "district                          object\n",
       "county                            object\n",
       "Price_Paid_Transaction_Type       object\n",
       "Record_Type                     category\n",
       "dtype: object"
      ]
     },
     "execution_count": 65,
     "metadata": {},
     "output_type": "execute_result"
    }
   ],
   "source": [
    "df.dtypes"
   ]
  }
 ],
 "metadata": {
  "kernelspec": {
   "display_name": "Python 3 (ipykernel)",
   "language": "python",
   "name": "python3"
  },
  "language_info": {
   "codemirror_mode": {
    "name": "ipython",
    "version": 3
   },
   "file_extension": ".py",
   "mimetype": "text/x-python",
   "name": "python",
   "nbconvert_exporter": "python",
   "pygments_lexer": "ipython3",
   "version": "3.10.13"
  }
 },
 "nbformat": 4,
 "nbformat_minor": 5
}
